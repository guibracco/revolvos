{
 "cells": [
  {
   "cell_type": "code",
   "execution_count": 1,
   "id": "0fa85845-e74a-4f8d-a339-c5b627865dd2",
   "metadata": {},
   "outputs": [],
   "source": [
    "import numpy as np\n",
    "import pandas as pd\n",
    "import boto3"
   ]
  },
  {
   "cell_type": "code",
   "execution_count": 2,
   "id": "3542736c-f592-428b-a5bd-3d57a38d650b",
   "metadata": {},
   "outputs": [],
   "source": [
    "# Let's use Amazon S3\n",
    "# The Access Key ID and Secret Access Key are in ~/.aws/credentials\n",
    "# Region is set in ~/.aws/config\n",
    "s3 = boto3.resource('s3')"
   ]
  },
  {
   "cell_type": "code",
   "execution_count": 3,
   "id": "0f07a1fb-bc81-4fc5-88ab-70e3d6f68ab4",
   "metadata": {},
   "outputs": [
    {
     "name": "stdout",
     "output_type": "stream",
     "text": [
      "athena-query-bucket-testda24\n",
      "aws-glue-assets-936480984004-eu-north-1\n",
      "hacksprint-2023\n",
      "temp-transformation-rs\n",
      "vehicle-bucket-alarm\n"
     ]
    }
   ],
   "source": [
    "# Print out bucket names\n",
    "for bucket in s3.buckets.all():\n",
    "    print(bucket.name)"
   ]
  },
  {
   "cell_type": "code",
   "execution_count": 4,
   "id": "18794700-5e2e-4382-8681-4d439f1a8020",
   "metadata": {},
   "outputs": [
    {
     "name": "stdout",
     "output_type": "stream",
     "text": [
      "Telematics Data Dictionary 2023_02_14.xlsx\n",
      "Telematics Data Dictionary 2023_02_14.xlsx - SNAP_SHOT_ITEM (1).csv\n",
      "Vehicle_Fault.csv\n",
      "Vehicle_Fault_Alarm.csv\n",
      "Vehicle_Fault_Alarm_Item.csv\n",
      "Vehicle_Location.csv\n",
      "Vehicle_Specs.csv\n"
     ]
    }
   ],
   "source": [
    "# Print the file names in the bucket\n",
    "revolvos_bucket = s3.Bucket('hacksprint-2023')\n",
    "for object in revolvos_bucket.objects.all():\n",
    "    print(object.key)"
   ]
  },
  {
   "cell_type": "code",
   "execution_count": null,
   "id": "bf0e0d04-40b0-47f4-b105-ac530e6aa8bd",
   "metadata": {},
   "outputs": [],
   "source": [
    "%%time\n",
    "# Load one of the files into a dataframe\n",
    "obj = s3.Object('hacksprint-2023', 'Vehicle_Fault.csv').get()\n",
    "df = pd.read_csv(obj['Body'])"
   ]
  },
  {
   "cell_type": "code",
   "execution_count": 5,
   "id": "cd9f6030",
   "metadata": {},
   "outputs": [
    {
     "name": "stdout",
     "output_type": "stream",
     "text": [
      "CPU times: user 29.1 s, sys: 3.75 s, total: 32.9 s\n",
      "Wall time: 33.2 s\n"
     ]
    }
   ],
   "source": [
    "%%time\n",
    "# Load from the local CSV file instead.\n",
    "df = pd.read_csv('../S3 original bucket/Vehicle_Fault.csv')"
   ]
  },
  {
   "cell_type": "code",
   "execution_count": 6,
   "id": "c3cee112-4821-47bc-935e-58a9a7807aaf",
   "metadata": {},
   "outputs": [
    {
     "name": "stdout",
     "output_type": "stream",
     "text": [
      "ORBCOMM_MESSAGE_ID           int64\n",
      "ORDER_ID                     int64\n",
      "FAULT_DATE_TIME             object\n",
      "FAULT_OCCUR_LONGITUDE      float64\n",
      "FAULT_OCCUR_LATITUDE       float64\n",
      "FAULT_COUNT                  int64\n",
      "FMI                          int64\n",
      "FAULT_TYPE                 float64\n",
      "FAULT_ACTIVE                object\n",
      "EXPANSION_DIAG_CODE        float64\n",
      "VEHICLE_ID                   int64\n",
      "COMPANY_ID                   int64\n",
      "MESSAGE_DATE_TIME           object\n",
      "VEHICLE_MESSAGE_ID           int64\n",
      "COMPONENT_TYPE              object\n",
      "ECU_TYPE                    object\n",
      "ECU_ID                       int64\n",
      "COMPONENT_ID                 int64\n",
      "MSW                        float64\n",
      "DST1                       float64\n",
      "DST2                       float64\n",
      "FAULT_FILTER_ID            float64\n",
      "MALFUNCTION_LAMP_STATUS     object\n",
      "RED_LAMP_STATUS             object\n",
      "YELLOW_LAMP_STATUS          object\n",
      "PROTECT_LAMP_STATUS         object\n",
      "dtype: object\n"
     ]
    }
   ],
   "source": [
    "print(df.dtypes)"
   ]
  },
  {
   "cell_type": "code",
   "execution_count": 7,
   "id": "f9359e46-a7cb-4e7e-a2d5-5c9f2f20cf93",
   "metadata": {},
   "outputs": [
    {
     "name": "stdout",
     "output_type": "stream",
     "text": [
      "   ORBCOMM_MESSAGE_ID  ORDER_ID      FAULT_DATE_TIME  FAULT_OCCUR_LONGITUDE  \\\n",
      "0          3968769921         1  7/1/2022 2:47:04 AM                    NaN   \n",
      "1          3968768985         1  7/1/2022 2:46:58 AM                    NaN   \n",
      "2          3968784712         1  7/1/2022 3:03:07 AM                    NaN   \n",
      "3          3968783877         1  7/1/2022 3:03:02 AM                    NaN   \n",
      "4          3971138033         1  7/2/2022 4:13:19 PM                    NaN   \n",
      "\n",
      "   FAULT_OCCUR_LATITUDE  FAULT_COUNT  FMI  FAULT_TYPE FAULT_ACTIVE  \\\n",
      "0                   NaN          103   14         NaN            N   \n",
      "1                   NaN          103   14         NaN            Y   \n",
      "2                   NaN          104   14         NaN            N   \n",
      "3                   NaN          104   14         NaN            Y   \n",
      "4                   NaN          105   14         NaN            Y   \n",
      "\n",
      "   EXPANSION_DIAG_CODE  ...  ECU_ID  COMPONENT_ID         MSW  DST1 DST2  \\\n",
      "0                  NaN  ...       3           597  24147627.0   NaN  NaN   \n",
      "1                  NaN  ...       3           597  24147627.0   NaN  NaN   \n",
      "2                  NaN  ...       3           597  24147627.0   NaN  NaN   \n",
      "3                  NaN  ...       3           597  24147627.0   NaN  NaN   \n",
      "4                  NaN  ...       3           597  24147627.0   NaN  NaN   \n",
      "\n",
      "  FAULT_FILTER_ID  MALFUNCTION_LAMP_STATUS  RED_LAMP_STATUS  \\\n",
      "0          24.022                      NaN              NaN   \n",
      "1          24.022                      off              off   \n",
      "2          24.022                      NaN              NaN   \n",
      "3          24.022                      off              off   \n",
      "4          24.022                      off              off   \n",
      "\n",
      "   YELLOW_LAMP_STATUS  PROTECT_LAMP_STATUS  \n",
      "0                 NaN                  NaN  \n",
      "1                  on                  off  \n",
      "2                 NaN                  NaN  \n",
      "3                  on                  off  \n",
      "4                  on                  off  \n",
      "\n",
      "[5 rows x 26 columns]\n"
     ]
    }
   ],
   "source": [
    "print(df.head())"
   ]
  },
  {
   "cell_type": "code",
   "execution_count": 8,
   "id": "1fa5857b",
   "metadata": {},
   "outputs": [
    {
     "name": "stdout",
     "output_type": "stream",
     "text": [
      "(25020193, 26)\n"
     ]
    }
   ],
   "source": [
    "print(df.shape)"
   ]
  },
  {
   "cell_type": "markdown",
   "id": "1392bae2-d85d-447b-8ad0-296664be6186",
   "metadata": {
    "tags": []
   },
   "source": [
    "Insert magical cleaning..."
   ]
  },
  {
   "cell_type": "code",
   "execution_count": null,
   "id": "37e2463f-07ae-4561-81b2-556898453bb0",
   "metadata": {
    "tags": []
   },
   "outputs": [],
   "source": [
    "%%time\n",
    "# Send the cleaned dataframe content back to a new CSV file on the S3 bucket\n",
    "csv_clean = df.to_csv(index=False)\n",
    "_ = s3.Object('hacksprint-2023', 'Vehicle_Fault-clean.csv').put(Body=csv_clean)"
   ]
  }
 ],
 "metadata": {
  "kernelspec": {
   "display_name": "Python 3 (ipykernel)",
   "language": "python",
   "name": "python3"
  },
  "language_info": {
   "codemirror_mode": {
    "name": "ipython",
    "version": 3
   },
   "file_extension": ".py",
   "mimetype": "text/x-python",
   "name": "python",
   "nbconvert_exporter": "python",
   "pygments_lexer": "ipython3",
   "version": "3.11.2"
  },
  "vscode": {
   "interpreter": {
    "hash": "aee8b7b246df8f9039afb4144a1f6fd8d2ca17a180786b69acc140d282b71a49"
   }
  }
 },
 "nbformat": 4,
 "nbformat_minor": 5
}
