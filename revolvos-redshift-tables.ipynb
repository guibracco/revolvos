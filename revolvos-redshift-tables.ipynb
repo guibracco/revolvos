{
 "cells": [
  {
   "attachments": {},
   "cell_type": "markdown",
   "metadata": {},
   "source": [
    "Load the tables from Redshift"
   ]
  },
  {
   "cell_type": "code",
   "execution_count": 7,
   "metadata": {},
   "outputs": [],
   "source": [
    "import numpy as np\n",
    "import pandas as pd\n",
    "import boto3"
   ]
  },
  {
   "cell_type": "code",
   "execution_count": 9,
   "metadata": {},
   "outputs": [
    {
     "ename": "ValidationException",
     "evalue": "An error occurred (ValidationException) when calling the ExecuteStatement operation: Either ClusterIdentifier or WorkgroupName needs to be specified.",
     "output_type": "error",
     "traceback": [
      "\u001b[0;31m---------------------------------------------------------------------------\u001b[0m",
      "\u001b[0;31mValidationException\u001b[0m                       Traceback (most recent call last)",
      "\u001b[1;32m/Users/gdbr/Hyper Island/DA24STO/Modules/Volvo Project/revolvos/revolvos-redshift-tables.ipynb Cell 3\u001b[0m in \u001b[0;36m8\n\u001b[1;32m      <a href='vscode-notebook-cell:/Users/gdbr/Hyper%20Island/DA24STO/Modules/Volvo%20Project/revolvos/revolvos-redshift-tables.ipynb#W4sZmlsZQ%3D%3D?line=5'>6</a>\u001b[0m table_name \u001b[39m=\u001b[39m \u001b[39m'\u001b[39m\u001b[39mfault2\u001b[39m\u001b[39m'\u001b[39m\n\u001b[1;32m      <a href='vscode-notebook-cell:/Users/gdbr/Hyper%20Island/DA24STO/Modules/Volvo%20Project/revolvos/revolvos-redshift-tables.ipynb#W4sZmlsZQ%3D%3D?line=6'>7</a>\u001b[0m query \u001b[39m=\u001b[39m \u001b[39mf\u001b[39m\u001b[39m'\u001b[39m\u001b[39mSELECT * FROM \u001b[39m\u001b[39m{\u001b[39;00mtable_name\u001b[39m}\u001b[39;00m\u001b[39m'\u001b[39m\n\u001b[0;32m----> <a href='vscode-notebook-cell:/Users/gdbr/Hyper%20Island/DA24STO/Modules/Volvo%20Project/revolvos/revolvos-redshift-tables.ipynb#W4sZmlsZQ%3D%3D?line=7'>8</a>\u001b[0m response \u001b[39m=\u001b[39m client\u001b[39m.\u001b[39;49mexecute_statement(\n\u001b[1;32m      <a href='vscode-notebook-cell:/Users/gdbr/Hyper%20Island/DA24STO/Modules/Volvo%20Project/revolvos/revolvos-redshift-tables.ipynb#W4sZmlsZQ%3D%3D?line=8'>9</a>\u001b[0m     Database\u001b[39m=\u001b[39;49mdatabase_name,\n\u001b[1;32m     <a href='vscode-notebook-cell:/Users/gdbr/Hyper%20Island/DA24STO/Modules/Volvo%20Project/revolvos/revolvos-redshift-tables.ipynb#W4sZmlsZQ%3D%3D?line=9'>10</a>\u001b[0m     DbUser\u001b[39m=\u001b[39;49m\u001b[39m'\u001b[39;49m\u001b[39myour_redshift_user\u001b[39;49m\u001b[39m'\u001b[39;49m,\n\u001b[1;32m     <a href='vscode-notebook-cell:/Users/gdbr/Hyper%20Island/DA24STO/Modules/Volvo%20Project/revolvos/revolvos-redshift-tables.ipynb#W4sZmlsZQ%3D%3D?line=10'>11</a>\u001b[0m     Sql\u001b[39m=\u001b[39;49mquery\n\u001b[1;32m     <a href='vscode-notebook-cell:/Users/gdbr/Hyper%20Island/DA24STO/Modules/Volvo%20Project/revolvos/revolvos-redshift-tables.ipynb#W4sZmlsZQ%3D%3D?line=11'>12</a>\u001b[0m )\n\u001b[1;32m     <a href='vscode-notebook-cell:/Users/gdbr/Hyper%20Island/DA24STO/Modules/Volvo%20Project/revolvos/revolvos-redshift-tables.ipynb#W4sZmlsZQ%3D%3D?line=13'>14</a>\u001b[0m \u001b[39m# Fetch the results\u001b[39;00m\n\u001b[1;32m     <a href='vscode-notebook-cell:/Users/gdbr/Hyper%20Island/DA24STO/Modules/Volvo%20Project/revolvos/revolvos-redshift-tables.ipynb#W4sZmlsZQ%3D%3D?line=14'>15</a>\u001b[0m records \u001b[39m=\u001b[39m response[\u001b[39m'\u001b[39m\u001b[39mRecords\u001b[39m\u001b[39m'\u001b[39m]\n",
      "File \u001b[0;32m/Library/Frameworks/Python.framework/Versions/3.11/lib/python3.11/site-packages/botocore/client.py:530\u001b[0m, in \u001b[0;36mClientCreator._create_api_method.<locals>._api_call\u001b[0;34m(self, *args, **kwargs)\u001b[0m\n\u001b[1;32m    526\u001b[0m     \u001b[39mraise\u001b[39;00m \u001b[39mTypeError\u001b[39;00m(\n\u001b[1;32m    527\u001b[0m         \u001b[39mf\u001b[39m\u001b[39m\"\u001b[39m\u001b[39m{\u001b[39;00mpy_operation_name\u001b[39m}\u001b[39;00m\u001b[39m() only accepts keyword arguments.\u001b[39m\u001b[39m\"\u001b[39m\n\u001b[1;32m    528\u001b[0m     )\n\u001b[1;32m    529\u001b[0m \u001b[39m# The \"self\" in this scope is referring to the BaseClient.\u001b[39;00m\n\u001b[0;32m--> 530\u001b[0m \u001b[39mreturn\u001b[39;00m \u001b[39mself\u001b[39;49m\u001b[39m.\u001b[39;49m_make_api_call(operation_name, kwargs)\n",
      "File \u001b[0;32m/Library/Frameworks/Python.framework/Versions/3.11/lib/python3.11/site-packages/botocore/client.py:960\u001b[0m, in \u001b[0;36mBaseClient._make_api_call\u001b[0;34m(self, operation_name, api_params)\u001b[0m\n\u001b[1;32m    958\u001b[0m     error_code \u001b[39m=\u001b[39m parsed_response\u001b[39m.\u001b[39mget(\u001b[39m\"\u001b[39m\u001b[39mError\u001b[39m\u001b[39m\"\u001b[39m, {})\u001b[39m.\u001b[39mget(\u001b[39m\"\u001b[39m\u001b[39mCode\u001b[39m\u001b[39m\"\u001b[39m)\n\u001b[1;32m    959\u001b[0m     error_class \u001b[39m=\u001b[39m \u001b[39mself\u001b[39m\u001b[39m.\u001b[39mexceptions\u001b[39m.\u001b[39mfrom_code(error_code)\n\u001b[0;32m--> 960\u001b[0m     \u001b[39mraise\u001b[39;00m error_class(parsed_response, operation_name)\n\u001b[1;32m    961\u001b[0m \u001b[39melse\u001b[39;00m:\n\u001b[1;32m    962\u001b[0m     \u001b[39mreturn\u001b[39;00m parsed_response\n",
      "\u001b[0;31mValidationException\u001b[0m: An error occurred (ValidationException) when calling the ExecuteStatement operation: Either ClusterIdentifier or WorkgroupName needs to be specified."
     ]
    }
   ],
   "source": [
    "# Create a client for the Redshift Data API\n",
    "client = boto3.client('redshift-data')\n",
    "\n",
    "# Execute a SQL query to fetch data from a Redshift table\n",
    "database_name = 'volvos'\n",
    "table_name = 'fault2'\n",
    "query = f'SELECT * FROM {table_name}'\n",
    "response = client.execute_statement(\n",
    "    Database=database_name,\n",
    "    DbUser='your_redshift_user',\n",
    "    Sql=query\n",
    ")\n",
    "\n",
    "# Fetch the results\n",
    "records = response['Records']\n",
    "for record in records:\n",
    "    values = record['values']\n",
    "    print(values)\n",
    "\n",
    "# Close the session\n",
    "client.commit_transaction(Id=response['Id'])\n"
   ]
  },
  {
   "cell_type": "code",
   "execution_count": null,
   "metadata": {},
   "outputs": [],
   "source": []
  }
 ],
 "metadata": {
  "kernelspec": {
   "display_name": "Python 3",
   "language": "python",
   "name": "python3"
  },
  "language_info": {
   "codemirror_mode": {
    "name": "ipython",
    "version": 3
   },
   "file_extension": ".py",
   "mimetype": "text/x-python",
   "name": "python",
   "nbconvert_exporter": "python",
   "pygments_lexer": "ipython3",
   "version": "3.11.2"
  },
  "orig_nbformat": 4
 },
 "nbformat": 4,
 "nbformat_minor": 2
}
