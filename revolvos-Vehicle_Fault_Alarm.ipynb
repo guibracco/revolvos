{
 "cells": [
  {
   "cell_type": "code",
   "execution_count": 1,
   "id": "639d53c2-0358-4c28-af54-9b01d10a29a9",
   "metadata": {},
   "outputs": [],
   "source": [
    "import numpy as np\n",
    "import pandas as pd\n",
    "import boto3"
   ]
  },
  {
   "cell_type": "code",
   "execution_count": 2,
   "id": "d68482e9-d5d4-4782-bcfe-30bad3a02ddb",
   "metadata": {},
   "outputs": [],
   "source": [
    "# Let's use Amazon S3\n",
    "# The Access Key ID and Secret Access Key are in ~/.aws/credentials\n",
    "# Region is set in ~/.aws/config\n",
    "s3 = boto3.resource('s3')"
   ]
  },
  {
   "cell_type": "code",
   "execution_count": 3,
   "id": "acb9121a-90f2-41a1-aa37-de345197e6f6",
   "metadata": {},
   "outputs": [
    {
     "name": "stdout",
     "output_type": "stream",
     "text": [
      "athena-query-bucket-testda24\n",
      "aws-glue-assets-936480984004-eu-north-1\n",
      "hacksprint-2023\n",
      "temp-transformation-rs\n",
      "vehicle-bucket-alarm\n"
     ]
    }
   ],
   "source": [
    "# Print out bucket names\n",
    "for bucket in s3.buckets.all():\n",
    "    print(bucket.name)"
   ]
  },
  {
   "cell_type": "code",
   "execution_count": 4,
   "id": "b39f2982-aad9-4f06-a33b-6bb346630a98",
   "metadata": {},
   "outputs": [
    {
     "name": "stdout",
     "output_type": "stream",
     "text": [
      "Telematics Data Dictionary 2023_02_14.xlsx\n",
      "Vehicle_Fault.csv\n",
      "Vehicle_Fault_Alarm.csv\n",
      "Vehicle_Fault_Alarm_Item.csv\n",
      "Vehicle_Location.csv\n",
      "Vehicle_Specs.csv\n"
     ]
    }
   ],
   "source": [
    "# Print the file names in the bucket\n",
    "revolvos_bucket = s3.Bucket('hacksprint-2023')\n",
    "for object in revolvos_bucket.objects.all():\n",
    "    print(object.key)"
   ]
  },
  {
   "cell_type": "code",
   "execution_count": 5,
   "id": "56f7d54e-52d4-4dbd-9399-dac5e4abd07c",
   "metadata": {},
   "outputs": [
    {
     "name": "stdout",
     "output_type": "stream",
     "text": [
      "CPU times: user 30.4 s, sys: 5.39 s, total: 35.8 s\n",
      "Wall time: 1min 10s\n"
     ]
    }
   ],
   "source": [
    "%%time\n",
    "# Load one of the files into a dataframe\n",
    "obj = s3.Object('hacksprint-2023', 'Vehicle_Fault_Alarm.csv').get()\n",
    "df = pd.read_csv(obj['Body'], low_memory=False)"
   ]
  },
  {
   "cell_type": "code",
   "execution_count": 7,
   "id": "784282d0-92b3-43f8-a349-a528d1428b33",
   "metadata": {},
   "outputs": [
    {
     "name": "stdout",
     "output_type": "stream",
     "text": [
      "FAULT_ALARM_ID                 int64\n",
      "COMPANY_ID                     int64\n",
      "VEHICLE_ID                     int64\n",
      "MESSAGE_DATE_TIME             object\n",
      "VEHICLE_MESSAGE_ID             int64\n",
      "LONGITUDE                    float64\n",
      "LATITUDE                     float64\n",
      "CITY_NAME                     object\n",
      "STATE_CD                      object\n",
      "FAULT_COUNT                    int64\n",
      "COMPONENT_TYPE                object\n",
      "FMI_ID                         int64\n",
      "FIRST_OCCURRENCE              object\n",
      "LAST_OCCURRENCE               object\n",
      "ECU_TYPE                      object\n",
      "ECU_ID                         int64\n",
      "COMPONENT_ID                   int64\n",
      "FAULT_ACTIVE                  object\n",
      "MSW                          float64\n",
      "DST1                         float64\n",
      "DST2                         float64\n",
      "EDR_REPORT_IDENTIFICATION    float64\n",
      "EDR_VFA_LINK                 float64\n",
      "FAULT_FILTER_ID              float64\n",
      "MALFUNCTION_LAMP_STATUS       object\n",
      "RED_LAMP_STATUS               object\n",
      "YELLOW_LAMP_STATUS            object\n",
      "PROTECT_LAMP_STATUS           object\n",
      "POSITION_TIMESTAMP            object\n",
      "CREATE_DATE                   object\n",
      "HEADING                      float64\n",
      "ELEVATION                    float64\n",
      "dtype: object\n"
     ]
    }
   ],
   "source": [
    "print(df.dtypes)"
   ]
  },
  {
   "cell_type": "code",
   "execution_count": 8,
   "id": "43f802c0-23d7-412c-a047-3c1a44bf8d62",
   "metadata": {},
   "outputs": [
    {
     "name": "stdout",
     "output_type": "stream",
     "text": [
      "   FAULT_ALARM_ID  COMPANY_ID  VEHICLE_ID    MESSAGE_DATE_TIME  \\\n",
      "0      2343110281      649030   100212831  7/1/2022 2:46:58 AM   \n",
      "1      2343111175      649030   100212831  7/1/2022 2:47:04 AM   \n",
      "2      2343124523      649030   100212831  7/1/2022 3:03:02 AM   \n",
      "3      2343125320      649030   100212831  7/1/2022 3:03:07 AM   \n",
      "4      2345440161      649030   100212831  7/2/2022 4:13:19 PM   \n",
      "\n",
      "   VEHICLE_MESSAGE_ID   LONGITUDE   LATITUDE CITY_NAME STATE_CD  FAULT_COUNT  \\\n",
      "0         10311654432 -118.983314  54.647507       NaN      NaN          103   \n",
      "1         10311657676 -118.983314  54.647507       NaN      NaN          103   \n",
      "2         10311704845 -118.983314  54.647507       NaN      NaN          104   \n",
      "3         10311707803 -118.983314  54.647507       NaN      NaN          104   \n",
      "4         10319802899 -119.551490  55.370797     Hythe       AB          105   \n",
      "\n",
      "   ... EDR_VFA_LINK  FAULT_FILTER_ID MALFUNCTION_LAMP_STATUS RED_LAMP_STATUS  \\\n",
      "0  ...          NaN           24.022                     off             off   \n",
      "1  ...          NaN           24.022                     NaN             NaN   \n",
      "2  ...          NaN           24.022                     off             off   \n",
      "3  ...          NaN           24.022                     NaN             NaN   \n",
      "4  ...          NaN           24.022                     off             off   \n",
      "\n",
      "  YELLOW_LAMP_STATUS  PROTECT_LAMP_STATUS   POSITION_TIMESTAMP  \\\n",
      "0                 on                  off  7/1/2022 2:47:01 AM   \n",
      "1                NaN                  NaN  7/1/2022 2:47:07 AM   \n",
      "2                 on                  off  7/1/2022 3:03:06 AM   \n",
      "3                NaN                  NaN  7/1/2022 3:03:11 AM   \n",
      "4                 on                  off  7/2/2022 4:13:27 PM   \n",
      "\n",
      "           CREATE_DATE  HEADING  ELEVATION  \n",
      "0  7/1/2022 2:47:09 AM     62.0     3507.0  \n",
      "1  7/1/2022 2:48:09 AM     62.0     3507.0  \n",
      "2  7/1/2022 3:03:13 AM     62.0     3507.0  \n",
      "3  7/1/2022 3:04:13 AM     62.0     3507.0  \n",
      "4  7/2/2022 4:13:37 PM    181.0     2559.0  \n",
      "\n",
      "[5 rows x 32 columns]\n"
     ]
    }
   ],
   "source": [
    "print(df.head())"
   ]
  },
  {
   "cell_type": "markdown",
   "id": "d0e77518-22a3-4b69-a5b7-78dfc7c4e4c5",
   "metadata": {
    "tags": []
   },
   "source": [
    "Insert magical cleaning..."
   ]
  },
  {
   "cell_type": "code",
   "execution_count": null,
   "id": "b53b23d9-6d74-4553-aad5-49077c69a734",
   "metadata": {
    "tags": []
   },
   "outputs": [],
   "source": [
    "%%time\n",
    "# Send the cleaned dataframe content back to a new CSV file on the S3 bucket\n",
    "csv_clean = df.to_csv(index=False)\n",
    "_ = s3.Object('hacksprint-2023', 'Vehicle_Fault_Alarm-clean.csv').put(Body=csv_clean)"
   ]
  }
 ],
 "metadata": {
  "kernelspec": {
   "display_name": "Python 3",
   "language": "python",
   "name": "python3"
  },
  "language_info": {
   "codemirror_mode": {
    "name": "ipython",
    "version": 3
   },
   "file_extension": ".py",
   "mimetype": "text/x-python",
   "name": "python",
   "nbconvert_exporter": "python",
   "pygments_lexer": "ipython3",
   "version": "3.11.2"
  },
  "vscode": {
   "interpreter": {
    "hash": "aee8b7b246df8f9039afb4144a1f6fd8d2ca17a180786b69acc140d282b71a49"
   }
  }
 },
 "nbformat": 4,
 "nbformat_minor": 5
}
