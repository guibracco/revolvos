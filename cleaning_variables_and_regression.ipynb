{
 "cells": [
  {
   "cell_type": "code",
   "execution_count": 1,
   "metadata": {},
   "outputs": [],
   "source": [
    "import pandas as pd\n",
    "import numpy as np\n",
    "import statsmodels.api as sm\n",
    "import math"
   ]
  },
  {
   "cell_type": "code",
   "execution_count": 2,
   "metadata": {},
   "outputs": [],
   "source": [
    "faults = pd.read_csv('first_348_faults_per_vehicle000 (1).csv')\n"
   ]
  },
  {
   "cell_type": "code",
   "execution_count": 3,
   "metadata": {},
   "outputs": [],
   "source": [
    "# Transforming the idle_engine_hours to hours\n",
    "faults['idle_engine_hours'] = faults['idle_engine_hours'] / 3600\n"
   ]
  },
  {
   "cell_type": "code",
   "execution_count": 4,
   "metadata": {},
   "outputs": [
    {
     "name": "stdout",
     "output_type": "stream",
     "text": [
      "0          13997.259776\n",
      "1          14000.259414\n",
      "2          14001.259289\n",
      "3          13999.259651\n",
      "4          13998.259762\n",
      "               ...     \n",
      "1684590      310.587361\n",
      "1684591      310.087389\n",
      "1684592      314.487222\n",
      "1684593      314.037236\n",
      "1684594      313.187236\n",
      "Name: active_engine_hours, Length: 1684595, dtype: float64\n"
     ]
    }
   ],
   "source": [
    "# Calculating the active_engine_hours\n",
    "faults['active_engine_hours'] = faults['engine_hours'] - faults['idle_engine_hours']\n",
    "print(faults['active_engine_hours'])"
   ]
  },
  {
   "cell_type": "code",
   "execution_count": 5,
   "metadata": {},
   "outputs": [
    {
     "name": "stdout",
     "output_type": "stream",
     "text": [
      "red_lamp_bool\n",
      "0    1649860\n",
      "1      34735\n",
      "Name: count, dtype: int64\n"
     ]
    }
   ],
   "source": [
    "\n",
    "boolly = lambda x: 1 if x == \"on\" else 0\n",
    "\n",
    "faults['red_lamp_bool'] = faults['red_lamp_status'].apply(boolly)\n",
    "print(faults['red_lamp_bool'].value_counts())\n"
   ]
  },
  {
   "cell_type": "code",
   "execution_count": 6,
   "metadata": {},
   "outputs": [
    {
     "name": "stdout",
     "output_type": "stream",
     "text": [
      "0          1725.0\n",
      "1          1725.0\n",
      "2          1725.0\n",
      "3          1725.0\n",
      "4          1725.0\n",
      "            ...  \n",
      "1684590     151.0\n",
      "1684591     151.0\n",
      "1684592     151.0\n",
      "1684593     151.0\n",
      "1684594     151.0\n",
      "Name: vehicle_assembly_age, Length: 1684595, dtype: float64\n"
     ]
    }
   ],
   "source": [
    "faults['vehicle_assembly_age'] = pd.to_datetime(faults['message_date_time']) - pd.to_datetime(faults['final_assembly_dt'])\n",
    "faults['vehicle_assembly_age'] = faults['vehicle_assembly_age'].dt.days\n",
    "print(faults['vehicle_assembly_age'])"
   ]
  },
  {
   "cell_type": "code",
   "execution_count": 7,
   "metadata": {},
   "outputs": [
    {
     "name": "stdout",
     "output_type": "stream",
     "text": [
      "0          826\n",
      "1          826\n",
      "2          826\n",
      "3          826\n",
      "4          826\n",
      "          ... \n",
      "1684590    133\n",
      "1684591    133\n",
      "1684592    133\n",
      "1684593    133\n",
      "1684594    133\n",
      "Name: vehicle_service_age, Length: 1684595, dtype: int32\n"
     ]
    }
   ],
   "source": [
    "faults['vehicle_service_age'] = pd.to_datetime(faults['message_date_time']) - pd.to_datetime(faults['in_service_dt'])\n",
    "faults['vehicle_service_age'] = faults['vehicle_service_age'].dt.days\n",
    "print(faults['vehicle_service_age'])"
   ]
  },
  {
   "cell_type": "code",
   "execution_count": 8,
   "metadata": {},
   "outputs": [
    {
     "data": {
      "text/html": [
       "<div>\n",
       "<style scoped>\n",
       "    .dataframe tbody tr th:only-of-type {\n",
       "        vertical-align: middle;\n",
       "    }\n",
       "\n",
       "    .dataframe tbody tr th {\n",
       "        vertical-align: top;\n",
       "    }\n",
       "\n",
       "    .dataframe thead th {\n",
       "        text-align: right;\n",
       "    }\n",
       "</style>\n",
       "<table border=\"1\" class=\"dataframe\">\n",
       "  <thead>\n",
       "    <tr style=\"text-align: right;\">\n",
       "      <th></th>\n",
       "      <th>malfunction_lamp_status</th>\n",
       "      <th>protect_lamp_status</th>\n",
       "      <th>red_lamp_status</th>\n",
       "      <th>vehicle_make</th>\n",
       "      <th>yellow_lamp_status</th>\n",
       "      <th>active_engine_hours</th>\n",
       "      <th>engine_hours</th>\n",
       "      <th>gross_combined_weight</th>\n",
       "      <th>odometer_reading</th>\n",
       "      <th>vehicle_assembly_age</th>\n",
       "      <th>vehicle_service_age</th>\n",
       "      <th>red_lamp_bool</th>\n",
       "    </tr>\n",
       "  </thead>\n",
       "  <tbody>\n",
       "    <tr>\n",
       "      <th>0</th>\n",
       "      <td>off</td>\n",
       "      <td>off</td>\n",
       "      <td>off</td>\n",
       "      <td>VOLVO</td>\n",
       "      <td>on</td>\n",
       "      <td>13997.259776</td>\n",
       "      <td>13998.87</td>\n",
       "      <td>NaN</td>\n",
       "      <td>414416.949</td>\n",
       "      <td>1725.0</td>\n",
       "      <td>826</td>\n",
       "      <td>0</td>\n",
       "    </tr>\n",
       "    <tr>\n",
       "      <th>1</th>\n",
       "      <td>off</td>\n",
       "      <td>off</td>\n",
       "      <td>off</td>\n",
       "      <td>VOLVO</td>\n",
       "      <td>on</td>\n",
       "      <td>14000.259414</td>\n",
       "      <td>14001.87</td>\n",
       "      <td>NaN</td>\n",
       "      <td>414473.158</td>\n",
       "      <td>1725.0</td>\n",
       "      <td>826</td>\n",
       "      <td>0</td>\n",
       "    </tr>\n",
       "    <tr>\n",
       "      <th>2</th>\n",
       "      <td>off</td>\n",
       "      <td>off</td>\n",
       "      <td>off</td>\n",
       "      <td>VOLVO</td>\n",
       "      <td>on</td>\n",
       "      <td>14001.259289</td>\n",
       "      <td>14002.87</td>\n",
       "      <td>NaN</td>\n",
       "      <td>414500.206</td>\n",
       "      <td>1725.0</td>\n",
       "      <td>826</td>\n",
       "      <td>0</td>\n",
       "    </tr>\n",
       "    <tr>\n",
       "      <th>3</th>\n",
       "      <td>off</td>\n",
       "      <td>off</td>\n",
       "      <td>off</td>\n",
       "      <td>VOLVO</td>\n",
       "      <td>on</td>\n",
       "      <td>13999.259651</td>\n",
       "      <td>14000.87</td>\n",
       "      <td>NaN</td>\n",
       "      <td>414472.791</td>\n",
       "      <td>1725.0</td>\n",
       "      <td>826</td>\n",
       "      <td>0</td>\n",
       "    </tr>\n",
       "    <tr>\n",
       "      <th>4</th>\n",
       "      <td>off</td>\n",
       "      <td>off</td>\n",
       "      <td>off</td>\n",
       "      <td>VOLVO</td>\n",
       "      <td>on</td>\n",
       "      <td>13998.259762</td>\n",
       "      <td>13999.87</td>\n",
       "      <td>NaN</td>\n",
       "      <td>414447.862</td>\n",
       "      <td>1725.0</td>\n",
       "      <td>826</td>\n",
       "      <td>0</td>\n",
       "    </tr>\n",
       "    <tr>\n",
       "      <th>...</th>\n",
       "      <td>...</td>\n",
       "      <td>...</td>\n",
       "      <td>...</td>\n",
       "      <td>...</td>\n",
       "      <td>...</td>\n",
       "      <td>...</td>\n",
       "      <td>...</td>\n",
       "      <td>...</td>\n",
       "      <td>...</td>\n",
       "      <td>...</td>\n",
       "      <td>...</td>\n",
       "      <td>...</td>\n",
       "    </tr>\n",
       "    <tr>\n",
       "      <th>1684590</th>\n",
       "      <td>off</td>\n",
       "      <td>off</td>\n",
       "      <td>off</td>\n",
       "      <td>VOLVO</td>\n",
       "      <td>on</td>\n",
       "      <td>310.587361</td>\n",
       "      <td>310.60</td>\n",
       "      <td>40124.132</td>\n",
       "      <td>11279.851</td>\n",
       "      <td>151.0</td>\n",
       "      <td>133</td>\n",
       "      <td>0</td>\n",
       "    </tr>\n",
       "    <tr>\n",
       "      <th>1684591</th>\n",
       "      <td>off</td>\n",
       "      <td>off</td>\n",
       "      <td>off</td>\n",
       "      <td>VOLVO</td>\n",
       "      <td>on</td>\n",
       "      <td>310.087389</td>\n",
       "      <td>310.10</td>\n",
       "      <td>40057.993</td>\n",
       "      <td>11257.469</td>\n",
       "      <td>151.0</td>\n",
       "      <td>133</td>\n",
       "      <td>0</td>\n",
       "    </tr>\n",
       "    <tr>\n",
       "      <th>1684592</th>\n",
       "      <td>off</td>\n",
       "      <td>off</td>\n",
       "      <td>off</td>\n",
       "      <td>VOLVO</td>\n",
       "      <td>on</td>\n",
       "      <td>314.487222</td>\n",
       "      <td>314.50</td>\n",
       "      <td>37875.417</td>\n",
       "      <td>11432.111</td>\n",
       "      <td>151.0</td>\n",
       "      <td>133</td>\n",
       "      <td>0</td>\n",
       "    </tr>\n",
       "    <tr>\n",
       "      <th>1684593</th>\n",
       "      <td>off</td>\n",
       "      <td>off</td>\n",
       "      <td>off</td>\n",
       "      <td>VOLVO</td>\n",
       "      <td>on</td>\n",
       "      <td>314.037236</td>\n",
       "      <td>314.05</td>\n",
       "      <td>37169.937</td>\n",
       "      <td>11410.189</td>\n",
       "      <td>151.0</td>\n",
       "      <td>133</td>\n",
       "      <td>0</td>\n",
       "    </tr>\n",
       "    <tr>\n",
       "      <th>1684594</th>\n",
       "      <td>off</td>\n",
       "      <td>off</td>\n",
       "      <td>off</td>\n",
       "      <td>VOLVO</td>\n",
       "      <td>on</td>\n",
       "      <td>313.187236</td>\n",
       "      <td>313.20</td>\n",
       "      <td>36751.059</td>\n",
       "      <td>11370.676</td>\n",
       "      <td>151.0</td>\n",
       "      <td>133</td>\n",
       "      <td>0</td>\n",
       "    </tr>\n",
       "  </tbody>\n",
       "</table>\n",
       "<p>1684595 rows × 12 columns</p>\n",
       "</div>"
      ],
      "text/plain": [
       "        malfunction_lamp_status protect_lamp_status red_lamp_status   \n",
       "0                           off                 off             off  \\\n",
       "1                           off                 off             off   \n",
       "2                           off                 off             off   \n",
       "3                           off                 off             off   \n",
       "4                           off                 off             off   \n",
       "...                         ...                 ...             ...   \n",
       "1684590                     off                 off             off   \n",
       "1684591                     off                 off             off   \n",
       "1684592                     off                 off             off   \n",
       "1684593                     off                 off             off   \n",
       "1684594                     off                 off             off   \n",
       "\n",
       "        vehicle_make yellow_lamp_status  active_engine_hours  engine_hours   \n",
       "0              VOLVO                 on         13997.259776      13998.87  \\\n",
       "1              VOLVO                 on         14000.259414      14001.87   \n",
       "2              VOLVO                 on         14001.259289      14002.87   \n",
       "3              VOLVO                 on         13999.259651      14000.87   \n",
       "4              VOLVO                 on         13998.259762      13999.87   \n",
       "...              ...                ...                  ...           ...   \n",
       "1684590        VOLVO                 on           310.587361        310.60   \n",
       "1684591        VOLVO                 on           310.087389        310.10   \n",
       "1684592        VOLVO                 on           314.487222        314.50   \n",
       "1684593        VOLVO                 on           314.037236        314.05   \n",
       "1684594        VOLVO                 on           313.187236        313.20   \n",
       "\n",
       "         gross_combined_weight  odometer_reading  vehicle_assembly_age   \n",
       "0                          NaN        414416.949                1725.0  \\\n",
       "1                          NaN        414473.158                1725.0   \n",
       "2                          NaN        414500.206                1725.0   \n",
       "3                          NaN        414472.791                1725.0   \n",
       "4                          NaN        414447.862                1725.0   \n",
       "...                        ...               ...                   ...   \n",
       "1684590              40124.132         11279.851                 151.0   \n",
       "1684591              40057.993         11257.469                 151.0   \n",
       "1684592              37875.417         11432.111                 151.0   \n",
       "1684593              37169.937         11410.189                 151.0   \n",
       "1684594              36751.059         11370.676                 151.0   \n",
       "\n",
       "         vehicle_service_age  red_lamp_bool  \n",
       "0                        826              0  \n",
       "1                        826              0  \n",
       "2                        826              0  \n",
       "3                        826              0  \n",
       "4                        826              0  \n",
       "...                      ...            ...  \n",
       "1684590                  133              0  \n",
       "1684591                  133              0  \n",
       "1684592                  133              0  \n",
       "1684593                  133              0  \n",
       "1684594                  133              0  \n",
       "\n",
       "[1684595 rows x 12 columns]"
      ]
     },
     "metadata": {},
     "output_type": "display_data"
    }
   ],
   "source": [
    "selected = faults[['malfunction_lamp_status', \n",
    "                   'protect_lamp_status', \n",
    "                   'red_lamp_status', \n",
    "                   'vehicle_make', \n",
    "                   'yellow_lamp_status', \n",
    "                   'active_engine_hours', \n",
    "                   'engine_hours', \n",
    "                   'gross_combined_weight', \n",
    "                   'odometer_reading', \n",
    "                   'vehicle_assembly_age', \n",
    "                   'vehicle_service_age', \n",
    "                   'red_lamp_bool',]]\n",
    "display(selected)\n"
   ]
  },
  {
   "cell_type": "code",
   "execution_count": 9,
   "metadata": {},
   "outputs": [
    {
     "name": "stdout",
     "output_type": "stream",
     "text": [
      "0.6351235756962356\n"
     ]
    },
    {
     "name": "stderr",
     "output_type": "stream",
     "text": [
      "/var/folders/38/sjv6sgkx2rg98b8z0xk09pdr0000gn/T/ipykernel_5745/2099903806.py:2: SettingWithCopyWarning: \n",
      "A value is trying to be set on a copy of a slice from a DataFrame.\n",
      "Try using .loc[row_indexer,col_indexer] = value instead\n",
      "\n",
      "See the caveats in the documentation: https://pandas.pydata.org/pandas-docs/stable/user_guide/indexing.html#returning-a-view-versus-a-copy\n",
      "  selected['volvo'] = selected['vehicle_make'].apply(volvor)\n"
     ]
    }
   ],
   "source": [
    "volvor = lambda x: 1 if x == \"VOLVO\" else 0\n",
    "selected['volvo'] = selected['vehicle_make'].apply(volvor)\n",
    "print(selected['volvo'].mean())"
   ]
  },
  {
   "cell_type": "code",
   "execution_count": 10,
   "metadata": {},
   "outputs": [
    {
     "name": "stdout",
     "output_type": "stream",
     "text": [
      "        malfunction_lamp_status protect_lamp_status red_lamp_status   \n",
      "696                         off                 off             off  \\\n",
      "697                         off                 off             off   \n",
      "698                         off                 off             off   \n",
      "699                         off                 off             off   \n",
      "700                         off                 off             off   \n",
      "...                         ...                 ...             ...   \n",
      "1684590                     off                 off             off   \n",
      "1684591                     off                 off             off   \n",
      "1684592                     off                 off             off   \n",
      "1684593                     off                 off             off   \n",
      "1684594                     off                 off             off   \n",
      "\n",
      "        vehicle_make yellow_lamp_status  active_engine_hours  engine_hours   \n",
      "696            VOLVO                 on          4828.043541      4828.407  \\\n",
      "697            VOLVO                 on          4828.043541      4828.407   \n",
      "698            VOLVO                 on          4831.393277      4831.757   \n",
      "699            VOLVO                 on          4831.393277      4831.757   \n",
      "700            VOLVO                 on          4835.392694      4835.757   \n",
      "...              ...                ...                  ...           ...   \n",
      "1684590        VOLVO                 on           310.587361       310.600   \n",
      "1684591        VOLVO                 on           310.087389       310.100   \n",
      "1684592        VOLVO                 on           314.487222       314.500   \n",
      "1684593        VOLVO                 on           314.037236       314.050   \n",
      "1684594        VOLVO                 on           313.187236       313.200   \n",
      "\n",
      "         gross_combined_weight  odometer_reading  vehicle_assembly_age   \n",
      "696                  22288.735        124857.768                1518.0  \\\n",
      "697                  22288.735        124857.768                1518.0   \n",
      "698                  22288.735        124941.417                1518.0   \n",
      "699                  22288.735        124941.417                1518.0   \n",
      "700                  68916.503        124989.194                1518.0   \n",
      "...                        ...               ...                   ...   \n",
      "1684590              40124.132         11279.851                 151.0   \n",
      "1684591              40057.993         11257.469                 151.0   \n",
      "1684592              37875.417         11432.111                 151.0   \n",
      "1684593              37169.937         11410.189                 151.0   \n",
      "1684594              36751.059         11370.676                 151.0   \n",
      "\n",
      "         vehicle_service_age  red_lamp_bool  volvo  \n",
      "696                      844              0      1  \n",
      "697                      844              0      1  \n",
      "698                      844              0      1  \n",
      "699                      844              0      1  \n",
      "700                      844              0      1  \n",
      "...                      ...            ...    ...  \n",
      "1684590                  133              0      1  \n",
      "1684591                  133              0      1  \n",
      "1684592                  133              0      1  \n",
      "1684593                  133              0      1  \n",
      "1684594                  133              0      1  \n",
      "\n",
      "[675797 rows x 13 columns]\n"
     ]
    }
   ],
   "source": [
    "selected = selected.dropna()\n",
    "print(selected)"
   ]
  },
  {
   "cell_type": "code",
   "execution_count": 11,
   "metadata": {},
   "outputs": [],
   "source": [
    "X = selected[['volvo', 'active_engine_hours', 'gross_combined_weight', 'odometer_reading', 'vehicle_assembly_age']]\n",
    "Y = selected['red_lamp_bool']"
   ]
  },
  {
   "cell_type": "code",
   "execution_count": 12,
   "metadata": {},
   "outputs": [
    {
     "name": "stdout",
     "output_type": "stream",
     "text": [
      "Optimization terminated successfully.\n",
      "         Current function value: 0.053017\n",
      "         Iterations 9\n"
     ]
    }
   ],
   "source": [
    "log_reg = sm.Logit(Y, X).fit()"
   ]
  },
  {
   "cell_type": "code",
   "execution_count": 13,
   "metadata": {},
   "outputs": [
    {
     "name": "stdout",
     "output_type": "stream",
     "text": [
      "                           Logit Regression Results                           \n",
      "==============================================================================\n",
      "Dep. Variable:          red_lamp_bool   No. Observations:               675797\n",
      "Model:                          Logit   Df Residuals:                   675792\n",
      "Method:                           MLE   Df Model:                            4\n",
      "Date:                Tue, 25 Apr 2023   Pseudo R-squ.:                 -0.2438\n",
      "Time:                        15:50:40   Log-Likelihood:                -35828.\n",
      "converged:                       True   LL-Null:                       -28806.\n",
      "Covariance Type:            nonrobust   LLR p-value:                     1.000\n",
      "=========================================================================================\n",
      "                            coef    std err          z      P>|z|      [0.025      0.975]\n",
      "-----------------------------------------------------------------------------------------\n",
      "volvo                    -1.4431      0.023    -63.291      0.000      -1.488      -1.398\n",
      "active_engine_hours    -3.02e-05   1.01e-05     -3.000      0.003   -4.99e-05   -1.05e-05\n",
      "gross_combined_weight -5.491e-05   5.52e-07    -99.536      0.000    -5.6e-05   -5.38e-05\n",
      "odometer_reading       1.069e-05   2.38e-07     44.888      0.000    1.02e-05    1.12e-05\n",
      "vehicle_assembly_age     -0.0047   6.82e-05    -68.256      0.000      -0.005      -0.005\n",
      "=========================================================================================\n"
     ]
    }
   ],
   "source": [
    "print(log_reg.summary())"
   ]
  },
  {
   "cell_type": "code",
   "execution_count": 14,
   "metadata": {},
   "outputs": [
    {
     "name": "stdout",
     "output_type": "stream",
     "text": [
      "Optimization terminated successfully.\n",
      "         Current function value: 0.053017\n",
      "         Iterations 9\n",
      "                           Logit Regression Results                           \n",
      "==============================================================================\n",
      "Dep. Variable:          red_lamp_bool   No. Observations:               675797\n",
      "Model:                          Logit   Df Residuals:                   675792\n",
      "Method:                           MLE   Df Model:                            4\n",
      "Date:                Tue, 25 Apr 2023   Pseudo R-squ.:                 -0.2438\n",
      "Time:                        15:50:43   Log-Likelihood:                -35828.\n",
      "converged:                       True   LL-Null:                       -28806.\n",
      "Covariance Type:            nonrobust   LLR p-value:                     1.000\n",
      "=========================================================================================\n",
      "                            coef    std err          z      P>|z|      [0.025      0.975]\n",
      "-----------------------------------------------------------------------------------------\n",
      "volvo                    -1.4431      0.023    -63.291      0.000      -1.488      -1.398\n",
      "engine_hours          -3.016e-05   1.01e-05     -2.996      0.003   -4.99e-05   -1.04e-05\n",
      "gross_combined_weight -5.491e-05   5.52e-07    -99.536      0.000    -5.6e-05   -5.38e-05\n",
      "odometer_reading       1.069e-05   2.38e-07     44.889      0.000    1.02e-05    1.12e-05\n",
      "vehicle_assembly_age     -0.0047   6.82e-05    -68.257      0.000      -0.005      -0.005\n",
      "=========================================================================================\n"
     ]
    }
   ],
   "source": [
    "X = selected[['volvo', 'engine_hours', 'gross_combined_weight', 'odometer_reading', 'vehicle_assembly_age']]\n",
    "Y = selected['red_lamp_bool']\n",
    "\n",
    "log_reg = sm.Logit(Y, X).fit()\n",
    "\n",
    "print(log_reg.summary())"
   ]
  },
  {
   "cell_type": "code",
   "execution_count": 15,
   "metadata": {},
   "outputs": [
    {
     "name": "stdout",
     "output_type": "stream",
     "text": [
      "Optimization terminated successfully.\n",
      "         Current function value: 0.052339\n",
      "         Iterations 9\n",
      "                           Logit Regression Results                           \n",
      "==============================================================================\n",
      "Dep. Variable:          red_lamp_bool   No. Observations:               675797\n",
      "Model:                          Logit   Df Residuals:                   675792\n",
      "Method:                           MLE   Df Model:                            4\n",
      "Date:                Tue, 25 Apr 2023   Pseudo R-squ.:                 -0.2279\n",
      "Time:                        15:50:45   Log-Likelihood:                -35370.\n",
      "converged:                       True   LL-Null:                       -28806.\n",
      "Covariance Type:            nonrobust   LLR p-value:                     1.000\n",
      "=========================================================================================\n",
      "                            coef    std err          z      P>|z|      [0.025      0.975]\n",
      "-----------------------------------------------------------------------------------------\n",
      "volvo                    -1.4155      0.022    -63.428      0.000      -1.459      -1.372\n",
      "engine_hours           2.634e-05   1.06e-05      2.493      0.013    5.63e-06    4.71e-05\n",
      "gross_combined_weight  -5.79e-05   5.21e-07   -111.072      0.000   -5.89e-05   -5.69e-05\n",
      "odometer_reading       1.131e-05   2.47e-07     45.836      0.000    1.08e-05    1.18e-05\n",
      "vehicle_service_age      -0.0064   8.71e-05    -73.038      0.000      -0.007      -0.006\n",
      "=========================================================================================\n"
     ]
    }
   ],
   "source": [
    "X = selected[['volvo', 'engine_hours', 'gross_combined_weight', 'odometer_reading', 'vehicle_service_age']]\n",
    "Y = selected['red_lamp_bool']\n",
    "\n",
    "log_reg = sm.Logit(Y, X).fit()\n",
    "\n",
    "print(log_reg.summary())"
   ]
  },
  {
   "cell_type": "code",
   "execution_count": 16,
   "metadata": {},
   "outputs": [
    {
     "name": "stderr",
     "output_type": "stream",
     "text": [
      "/var/folders/38/sjv6sgkx2rg98b8z0xk09pdr0000gn/T/ipykernel_5745/1412221441.py:4: SettingWithCopyWarning: \n",
      "A value is trying to be set on a copy of a slice from a DataFrame.\n",
      "Try using .loc[row_indexer,col_indexer] = value instead\n",
      "\n",
      "See the caveats in the documentation: https://pandas.pydata.org/pandas-docs/stable/user_guide/indexing.html#returning-a-view-versus-a-copy\n",
      "  X['intercept'] = 1\n"
     ]
    },
    {
     "name": "stdout",
     "output_type": "stream",
     "text": [
      "Optimization terminated successfully.\n",
      "         Current function value: 0.040006\n",
      "         Iterations 10\n",
      "                           Logit Regression Results                           \n",
      "==============================================================================\n",
      "Dep. Variable:          red_lamp_bool   No. Observations:               675797\n",
      "Model:                          Logit   Df Residuals:                   675791\n",
      "Method:                           MLE   Df Model:                            5\n",
      "Date:                Tue, 25 Apr 2023   Pseudo R-squ.:                 0.06145\n",
      "Time:                        15:50:47   Log-Likelihood:                -27036.\n",
      "converged:                       True   LL-Null:                       -28806.\n",
      "Covariance Type:            nonrobust   LLR p-value:                     0.000\n",
      "=========================================================================================\n",
      "                            coef    std err          z      P>|z|      [0.025      0.975]\n",
      "-----------------------------------------------------------------------------------------\n",
      "volvo                     0.5587      0.047     11.831      0.000       0.466       0.651\n",
      "active_engine_hours   -5.427e-05   8.66e-06     -6.264      0.000   -7.13e-05   -3.73e-05\n",
      "gross_combined_weight   8.24e-06   7.27e-07     11.342      0.000    6.82e-06    9.66e-06\n",
      "odometer_reading       7.316e-06   2.22e-07     32.977      0.000    6.88e-06    7.75e-06\n",
      "vehicle_service_age    6.742e-05   9.42e-05      0.716      0.474      -0.000       0.000\n",
      "intercept                -6.9909      0.072    -96.621      0.000      -7.133      -6.849\n",
      "=========================================================================================\n"
     ]
    }
   ],
   "source": [
    "X = selected[['volvo', 'active_engine_hours', 'gross_combined_weight', 'odometer_reading', 'vehicle_service_age']]\n",
    "Y = selected['red_lamp_bool']\n",
    "\n",
    "#X['intercept'] = 1\n",
    "\n",
    "log_reg = sm.Logit(Y, X).fit()\n",
    "\n",
    "print(log_reg.summary())"
   ]
  },
  {
   "cell_type": "code",
   "execution_count": 17,
   "metadata": {},
   "outputs": [
    {
     "name": "stdout",
     "output_type": "stream",
     "text": [
      "Optimization terminated successfully.\n",
      "         Current function value: 0.040006\n",
      "         Iterations 10\n",
      "[ 5.58678226e-01 -5.42694331e-05  8.23979233e-06  7.31641334e-06\n",
      "  6.74154513e-05 -6.99089808e+00]\n"
     ]
    }
   ],
   "source": [
    "coefs = sm.Logit(Y,X).fit().params.values\n",
    "print(coefs)"
   ]
  },
  {
   "cell_type": "code",
   "execution_count": 18,
   "metadata": {},
   "outputs": [
    {
     "name": "stdout",
     "output_type": "stream",
     "text": [
      "[1.7483600362597052, 0.9999457320394832, 1.0000082398262748, 1.0000073164401033, 1.0000674177238145, 0.0009202197250757503]\n"
     ]
    }
   ],
   "source": [
    "coefs2 = []\n",
    "for coef in coefs:\n",
    "    coefs2.append(math.exp(coef))\n",
    "\n",
    "print(coefs2)"
   ]
  },
  {
   "cell_type": "code",
   "execution_count": 19,
   "metadata": {},
   "outputs": [
    {
     "name": "stdout",
     "output_type": "stream",
     "text": [
      "74.83600362597052\n",
      "-0.005426796051677396\n",
      "0.0008239826274847317\n",
      "0.0007316440103322108\n",
      "0.006741772381446687\n",
      "-99.90797802749243\n"
     ]
    }
   ],
   "source": [
    "for c in coefs2:\n",
    "    print((c - 1) * 100)"
   ]
  }
 ],
 "metadata": {
  "kernelspec": {
   "display_name": "Python 3",
   "language": "python",
   "name": "python3"
  },
  "language_info": {
   "codemirror_mode": {
    "name": "ipython",
    "version": 3
   },
   "file_extension": ".py",
   "mimetype": "text/x-python",
   "name": "python",
   "nbconvert_exporter": "python",
   "pygments_lexer": "ipython3",
   "version": "3.11.2"
  },
  "orig_nbformat": 4
 },
 "nbformat": 4,
 "nbformat_minor": 2
}
