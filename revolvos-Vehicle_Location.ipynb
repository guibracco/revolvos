{
 "cells": [
  {
   "cell_type": "code",
   "execution_count": 1,
   "id": "9c206d33-9456-462c-8b02-1eb56476aeef",
   "metadata": {},
   "outputs": [],
   "source": [
    "import numpy as np\n",
    "import pandas as pd\n",
    "import boto3"
   ]
  },
  {
   "cell_type": "code",
   "execution_count": 2,
   "id": "8334c971-9193-43fc-89d5-befa2aec0a3b",
   "metadata": {},
   "outputs": [],
   "source": [
    "# Let's use Amazon S3\n",
    "# The Access Key ID and Secret Access Key are in ~/.aws/credentials\n",
    "# Region is set in ~/.aws/config\n",
    "s3 = boto3.resource('s3')"
   ]
  },
  {
   "cell_type": "code",
   "execution_count": 3,
   "id": "93286ffc-ce9d-4c15-9853-29edf5dd0c18",
   "metadata": {},
   "outputs": [
    {
     "name": "stdout",
     "output_type": "stream",
     "text": [
      "athena-query-bucket-testda24\n",
      "aws-glue-assets-936480984004-eu-north-1\n",
      "hacksprint-2023\n",
      "temp-transformation-rs\n",
      "vehicle-bucket-alarm\n"
     ]
    }
   ],
   "source": [
    "# Print out bucket names\n",
    "for bucket in s3.buckets.all():\n",
    "    print(bucket.name)"
   ]
  },
  {
   "cell_type": "code",
   "execution_count": 4,
   "id": "8384b140-bba8-491e-a950-f4663a1b7bc1",
   "metadata": {},
   "outputs": [
    {
     "name": "stdout",
     "output_type": "stream",
     "text": [
      "Telematics Data Dictionary 2023_02_14.xlsx\n",
      "Vehicle_Fault.csv\n",
      "Vehicle_Fault_Alarm.csv\n",
      "Vehicle_Fault_Alarm_Item.csv\n",
      "Vehicle_Location.csv\n",
      "Vehicle_Specs.csv\n"
     ]
    }
   ],
   "source": [
    "# Print the file names in the bucket\n",
    "revolvos_bucket = s3.Bucket('hacksprint-2023')\n",
    "for object in revolvos_bucket.objects.all():\n",
    "    print(object.key)"
   ]
  },
  {
   "cell_type": "code",
   "execution_count": 5,
   "id": "7b1a8144-75af-42e7-878c-f0e24a744a7f",
   "metadata": {},
   "outputs": [
    {
     "name": "stdout",
     "output_type": "stream",
     "text": [
      "CPU times: user 33.3 s, sys: 3.94 s, total: 37.3 s\n",
      "Wall time: 1min 30s\n"
     ]
    }
   ],
   "source": [
    "%%time\n",
    "# Load one of the files into a dataframe\n",
    "obj = s3.Object('hacksprint-2023', 'Vehicle_Location.csv').get()\n",
    "df = pd.read_csv(obj['Body'])"
   ]
  },
  {
   "cell_type": "code",
   "execution_count": 6,
   "id": "dbb0f3fc-0c4b-484f-bd68-32f36457c7ed",
   "metadata": {},
   "outputs": [
    {
     "data": {
      "text/plain": [
       "Index(['VEHICLE_ID', 'VEHICLE_MESSAGE_ID', 'DATE_TIME', 'LATITUDE',\n",
       "       'LONGITUDE', 'CITY', 'STATE', 'ODOMETER_READING', 'ENGINE_STATUS',\n",
       "       'ELEVATION', 'IDLE_ENGINE_HOURS', 'TOTAL_FUEL', 'GROSS_COMBINED_WEIGHT',\n",
       "       'ENGINE_HOURS'],\n",
       "      dtype='object')"
      ]
     },
     "execution_count": 6,
     "metadata": {},
     "output_type": "execute_result"
    }
   ],
   "source": [
    "df.columns"
   ]
  },
  {
   "cell_type": "code",
   "execution_count": 7,
   "id": "cfd316f3-fa34-4c80-8320-c6f77f337b8b",
   "metadata": {},
   "outputs": [
    {
     "name": "stdout",
     "output_type": "stream",
     "text": [
      "VEHICLE_ID                 int64\n",
      "VEHICLE_MESSAGE_ID         int64\n",
      "DATE_TIME                 object\n",
      "LATITUDE                 float64\n",
      "LONGITUDE                float64\n",
      "CITY                      object\n",
      "STATE                     object\n",
      "ODOMETER_READING         float64\n",
      "ENGINE_STATUS              int64\n",
      "ELEVATION                float64\n",
      "IDLE_ENGINE_HOURS        float64\n",
      "TOTAL_FUEL               float64\n",
      "GROSS_COMBINED_WEIGHT    float64\n",
      "ENGINE_HOURS             float64\n",
      "dtype: object\n"
     ]
    }
   ],
   "source": [
    "print(df.dtypes)"
   ]
  },
  {
   "cell_type": "code",
   "execution_count": 8,
   "id": "16a035a2-27dd-4960-b023-d1f8d6b5b488",
   "metadata": {},
   "outputs": [
    {
     "name": "stdout",
     "output_type": "stream",
     "text": [
      "   VEHICLE_ID  VEHICLE_MESSAGE_ID             DATE_TIME   LATITUDE  \\\n",
      "0   100212831         10311092654  7/1/2022 12:05:23 AM  54.647507   \n",
      "1   100212831         10311314269   7/1/2022 1:05:23 AM  54.647507   \n",
      "2   100212831         10311519019   7/1/2022 2:05:23 AM  54.647507   \n",
      "3   100212831         10311711700   7/1/2022 3:05:23 AM  54.652069   \n",
      "4   100212831         10311892369   7/1/2022 4:05:23 AM  55.085544   \n",
      "\n",
      "    LONGITUDE       CITY STATE  ODOMETER_READING  ENGINE_STATUS  ELEVATION  \\\n",
      "0 -118.983314        NaN   NaN        126151.836              1     3507.0   \n",
      "1 -118.983314        NaN   NaN        126151.836              1     3507.0   \n",
      "2 -118.983314        NaN   NaN        126151.836              1     3507.0   \n",
      "3 -118.959104        NaN   NaN        126152.954              1     3412.0   \n",
      "4 -118.810293  Grovedale    AB        126193.530              1     2152.0   \n",
      "\n",
      "   IDLE_ENGINE_HOURS    TOTAL_FUEL  GROSS_COMBINED_WEIGHT  ENGINE_HOURS  \n",
      "0           1944.503  38724.452811                    NaN      5447.308  \n",
      "1           1945.003  38725.377413                    NaN      5448.308  \n",
      "2           1946.003  38725.905757                    NaN      5449.308  \n",
      "3           1946.703  38726.962446                    NaN      5450.308  \n",
      "4           1946.703  38739.246446                    NaN      5451.308  \n"
     ]
    }
   ],
   "source": [
    "print(df.head())"
   ]
  },
  {
   "cell_type": "markdown",
   "id": "948fc6a8-ad11-4833-9db9-8f1afb3b77d6",
   "metadata": {
    "tags": []
   },
   "source": [
    "Insert magical cleaning..."
   ]
  },
  {
   "cell_type": "code",
   "execution_count": null,
   "id": "1273f310-12a4-4d3b-b40f-0f4e14cee882",
   "metadata": {
    "tags": []
   },
   "outputs": [],
   "source": [
    "%%time\n",
    "# Send the cleaned dataframe content back to a new CSV file on the S3 bucket\n",
    "csv_clean = df.to_csv(index=False)\n",
    "_ = s3.Object('hacksprint-2023', 'Vehicle_Location-clean.csv').put(Body=csv_clean)"
   ]
  }
 ],
 "metadata": {
  "kernelspec": {
   "display_name": "Python 3 (ipykernel)",
   "language": "python",
   "name": "python3"
  },
  "language_info": {
   "codemirror_mode": {
    "name": "ipython",
    "version": 3
   },
   "file_extension": ".py",
   "mimetype": "text/x-python",
   "name": "python",
   "nbconvert_exporter": "python",
   "pygments_lexer": "ipython3",
   "version": "3.11.2"
  }
 },
 "nbformat": 4,
 "nbformat_minor": 5
}
